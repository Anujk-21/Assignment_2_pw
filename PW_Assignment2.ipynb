{
  "nbformat": 4,
  "nbformat_minor": 0,
  "metadata": {
    "colab": {
      "provenance": []
    },
    "kernelspec": {
      "name": "python3",
      "display_name": "Python 3"
    },
    "language_info": {
      "name": "python"
    }
  },
  "cells": [
    {
      "cell_type": "markdown",
      "source": [
        "Name : Anuj Karoddeo\n",
        "\n",
        "Course : Data Science masters 2.0\n",
        "\n",
        "Assignment no. 2"
      ],
      "metadata": {
        "id": "U7ZU5IWRqb_g"
      }
    },
    {
      "cell_type": "markdown",
      "source": [
        "Q1. How do you comment code in Python? What are the different types of comments?\n",
        "\n",
        "Ans : There are two ways:\n",
        "\n",
        "       Single line comment by is using '#' and multiline comment by using '''-'''.\n"
      ],
      "metadata": {
        "id": "47TZxUs-rDt6"
      }
    },
    {
      "cell_type": "code",
      "execution_count": 18,
      "metadata": {
        "colab": {
          "base_uri": "https://localhost:8080/",
          "height": 35
        },
        "id": "HLUGXyUSqJ_D",
        "outputId": "64a48b1e-8e99-4c3c-adc0-30a4262b2e30"
      },
      "outputs": [
        {
          "output_type": "execute_result",
          "data": {
            "text/plain": [
              "'\\nthis \\nis the \\nmultiline \\ncomment\\n'"
            ],
            "application/vnd.google.colaboratory.intrinsic+json": {
              "type": "string"
            }
          },
          "metadata": {},
          "execution_count": 18
        }
      ],
      "source": [
        "# This is a single line comment.\n",
        "'''\n",
        "this\n",
        "is the\n",
        "multiline\n",
        "comment\n",
        "'''"
      ]
    },
    {
      "cell_type": "markdown",
      "source": [
        "Q2. What are variables in Python? How do you declare and assign values to variables?"
      ],
      "metadata": {
        "id": "Qa1hBD3AsZbC"
      }
    },
    {
      "cell_type": "markdown",
      "source": [
        "ans : Variables in Python are containers for storing data values that can be altered throughout the programming life cycle"
      ],
      "metadata": {
        "id": "MszzesLLsigR"
      }
    },
    {
      "cell_type": "code",
      "source": [
        "# creating variable age and assigning value 30\n",
        "age = 30\n",
        "\n",
        "#creating variable Name and assigning value 'Master'\n",
        "name = 'master'\n",
        "\n",
        "#creating variable pie_value and assigning value 3.14\n",
        "pie_value = 3.14\n"
      ],
      "metadata": {
        "id": "z6HNKREgr9sK"
      },
      "execution_count": 19,
      "outputs": []
    },
    {
      "cell_type": "markdown",
      "source": [
        "Q3. How do you convert one data type to another in Python?"
      ],
      "metadata": {
        "id": "K6akKNZmtncw"
      }
    },
    {
      "cell_type": "code",
      "source": [
        "x = '30'\n",
        "y = int(x)\n",
        "z = bool(y)\n",
        "print(type(x))\n",
        "print(type(y))\n",
        "print(type(z))"
      ],
      "metadata": {
        "colab": {
          "base_uri": "https://localhost:8080/"
        },
        "id": "bmcsv-5QtgXa",
        "outputId": "d3330db9-ea18-406a-c4ae-8cea221430bc"
      },
      "execution_count": 20,
      "outputs": [
        {
          "output_type": "stream",
          "name": "stdout",
          "text": [
            "<class 'str'>\n",
            "<class 'int'>\n",
            "<class 'bool'>\n"
          ]
        }
      ]
    },
    {
      "cell_type": "markdown",
      "source": [
        "Q4. How do you write and execute a Python script from the command line?\n"
      ],
      "metadata": {
        "id": "_jO2SUPGu3SB"
      }
    },
    {
      "cell_type": "markdown",
      "source": [
        "ans : Writing Python code in a text editor, save it with a .py extension.\n",
        "Open a terminal, navigate to the script's directory, and run it with python scriptname.py."
      ],
      "metadata": {
        "id": "dbqYOc3Zvken"
      }
    },
    {
      "cell_type": "code",
      "source": [
        "name = str(input('What is your good name : '))\n",
        "print(\"Hii!, Have a good day \",name,\"!\")"
      ],
      "metadata": {
        "colab": {
          "base_uri": "https://localhost:8080/"
        },
        "id": "akiOjYGRt3Nt",
        "outputId": "607d17e4-74bd-4193-bdf1-ea1ae2f56e41"
      },
      "execution_count": 21,
      "outputs": [
        {
          "output_type": "stream",
          "name": "stdout",
          "text": [
            "What is your good name : Harry\n",
            "Hii!, Have a good day  Harry !\n"
          ]
        }
      ]
    },
    {
      "cell_type": "markdown",
      "source": [
        "Q5. Given a list my_list = [1, 2, 3, 4, 5], write the code to slice the list and obtain the sub-list [2, 3].\n"
      ],
      "metadata": {
        "id": "19TJXDGTxy4z"
      }
    },
    {
      "cell_type": "code",
      "source": [
        "my_list =[1,2,3,4,5]\n",
        "print(my_list)\n",
        "\n",
        "sub_list = my_list[1:3]\n",
        "print(sub_list)"
      ],
      "metadata": {
        "colab": {
          "base_uri": "https://localhost:8080/"
        },
        "id": "Z0sutGcLwEoC",
        "outputId": "8b3e0a6c-9c4a-4590-8cd0-19eb4531e81f"
      },
      "execution_count": 25,
      "outputs": [
        {
          "output_type": "stream",
          "name": "stdout",
          "text": [
            "[1, 2, 3, 4, 5]\n",
            "[2, 3]\n"
          ]
        }
      ]
    },
    {
      "cell_type": "markdown",
      "source": [
        "Q6. What is a complex number in mathematics, and how is it represented in Python?"
      ],
      "metadata": {
        "id": "x50NgkmryWhi"
      }
    },
    {
      "cell_type": "code",
      "source": [
        "# complex numbers are the numbers which are in the form of 'n+i' where n is any number and i is imaginary.\n",
        "com = 5+23j #using j we can represent complex number.\n",
        "print(com)\n",
        "print(type(com))"
      ],
      "metadata": {
        "colab": {
          "base_uri": "https://localhost:8080/"
        },
        "id": "DdBTmEYqx8ue",
        "outputId": "fc1cba61-6f8b-478a-dc1a-a46bc7e98e74"
      },
      "execution_count": 29,
      "outputs": [
        {
          "output_type": "stream",
          "name": "stdout",
          "text": [
            "(5+23j)\n",
            "<class 'complex'>\n"
          ]
        }
      ]
    },
    {
      "cell_type": "markdown",
      "source": [
        "Q7. What is the correct way to declare a variable named age and assign the value 25 to it?"
      ],
      "metadata": {
        "id": "KhBFy2BTzJo_"
      }
    },
    {
      "cell_type": "code",
      "source": [
        "age = 25\n",
        "print(age)"
      ],
      "metadata": {
        "colab": {
          "base_uri": "https://localhost:8080/"
        },
        "id": "Hl83aRkdyztM",
        "outputId": "6a59ffb0-c261-4497-81e1-d524a48063f4"
      },
      "execution_count": 30,
      "outputs": [
        {
          "output_type": "stream",
          "name": "stdout",
          "text": [
            "25\n"
          ]
        }
      ]
    },
    {
      "cell_type": "markdown",
      "source": [
        "Q8. Declare a variable named price and assign the value 9.99 to it. What data type does this variable\n",
        "belong to?"
      ],
      "metadata": {
        "id": "X4-cxu9mzaY8"
      }
    },
    {
      "cell_type": "code",
      "source": [
        "price = 9.99\n",
        "type(price)"
      ],
      "metadata": {
        "colab": {
          "base_uri": "https://localhost:8080/"
        },
        "id": "C6-D7NoBzVwY",
        "outputId": "a76e933f-df6e-44c6-c858-66ada2c6f318"
      },
      "execution_count": 31,
      "outputs": [
        {
          "output_type": "execute_result",
          "data": {
            "text/plain": [
              "float"
            ]
          },
          "metadata": {},
          "execution_count": 31
        }
      ]
    },
    {
      "cell_type": "markdown",
      "source": [
        "Q9. Create a variable named name and assign your full name to it as a string. How would you print the\n",
        "value of this variable?"
      ],
      "metadata": {
        "id": "JRZLCQ5Yzl06"
      }
    },
    {
      "cell_type": "code",
      "source": [
        "name = \"Anuj Jayant Karoddeo\"\n",
        "print(name)"
      ],
      "metadata": {
        "colab": {
          "base_uri": "https://localhost:8080/"
        },
        "id": "w-fZYwGZzkJa",
        "outputId": "9be8997a-2279-4146-f06e-3606b030d4ea"
      },
      "execution_count": 32,
      "outputs": [
        {
          "output_type": "stream",
          "name": "stdout",
          "text": [
            "Anuj Jayant Karoddeo\n"
          ]
        }
      ]
    },
    {
      "cell_type": "markdown",
      "source": [
        "Q10. Given the string \"Hello, World!\", extract the substring \"World\"."
      ],
      "metadata": {
        "id": "V_QkOxVHzy2O"
      }
    },
    {
      "cell_type": "code",
      "source": [
        "a = \"Hello,World!\"\n",
        "a[6:11]"
      ],
      "metadata": {
        "colab": {
          "base_uri": "https://localhost:8080/",
          "height": 35
        },
        "id": "pPa3L4RdzxmB",
        "outputId": "46ff129f-e7e4-4db7-d47a-620d915b3c41"
      },
      "execution_count": 34,
      "outputs": [
        {
          "output_type": "execute_result",
          "data": {
            "text/plain": [
              "'World'"
            ],
            "application/vnd.google.colaboratory.intrinsic+json": {
              "type": "string"
            }
          },
          "metadata": {},
          "execution_count": 34
        }
      ]
    },
    {
      "cell_type": "markdown",
      "source": [
        "Q11. Create a variable named \"is_student\" and assign it a boolean value indicating whether you are\n",
        "currently a student or not."
      ],
      "metadata": {
        "id": "L-OKJNv00HzO"
      }
    },
    {
      "cell_type": "code",
      "source": [
        "is_student = True\n",
        "type(is_student)"
      ],
      "metadata": {
        "colab": {
          "base_uri": "https://localhost:8080/"
        },
        "id": "ObE1TDid0B46",
        "outputId": "1d69912b-a38d-44e2-d792-6e5f30639ef9"
      },
      "execution_count": 36,
      "outputs": [
        {
          "output_type": "execute_result",
          "data": {
            "text/plain": [
              "bool"
            ]
          },
          "metadata": {},
          "execution_count": 36
        }
      ]
    }
  ]
}